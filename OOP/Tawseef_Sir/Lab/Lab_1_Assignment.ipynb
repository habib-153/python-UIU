{
 "cells": [
  {
   "cell_type": "markdown",
   "id": "6e473ff8-91bd-4575-9e18-3d0816ee0815",
   "metadata": {},
   "source": [
    "# Task_1"
   ]
  },
  {
   "cell_type": "code",
   "execution_count": 2,
   "id": "0d7530e5-4878-4277-af8f-28fa1438d4e6",
   "metadata": {},
   "outputs": [
    {
     "name": "stdout",
     "output_type": "stream",
     "text": [
      "{2: 1, 4: 2, 1: 2, 3: 1, 9: 1}\n"
     ]
    }
   ],
   "source": [
    "def element_frequency(lst):\n",
    "    frequency = {}\n",
    "    for i in lst:\n",
    "        frequency[i] = lst.count(i)\n",
    "    print (frequency)\n",
    "#Lst List (map(int, input().split()))\n",
    "lst = [2,4,4,1,1,3,9]\n",
    "element_frequency(lst)"
   ]
  },
  {
   "cell_type": "markdown",
   "id": "80022dbd-95f6-4f1e-974f-699b47656ac5",
   "metadata": {},
   "source": [
    "# Task_2"
   ]
  },
  {
   "cell_type": "code",
   "execution_count": 5,
   "id": "dd557d6d-0dd7-440f-9b50-3d66e7b0a0ef",
   "metadata": {},
   "outputs": [
    {
     "name": "stdin",
     "output_type": "stream",
     "text": [
      " 1 2 3 4 5\n"
     ]
    },
    {
     "name": "stdout",
     "output_type": "stream",
     "text": [
      "[1, 3, 6, 10, 15]\n"
     ]
    }
   ],
   "source": [
    "def running_total(lst):\n",
    "    new_lst = []\n",
    "    sum = 0\n",
    "    for i in lst:\n",
    "        sum = sum + i\n",
    "        new_lst.append(sum)\n",
    "    print(new_lst)\n",
    "lst = list (map(int, input().split()))\n",
    "#lst = [2,4,4,1,1,3,9]\n",
    "running_total(lst)"
   ]
  },
  {
   "cell_type": "markdown",
   "id": "ee1499ba-7a82-4672-acde-3965a6f3783f",
   "metadata": {},
   "source": [
    "# Task_3"
   ]
  },
  {
   "cell_type": "code",
   "execution_count": 6,
   "id": "44542775-6e65-422a-90e4-4f034146137b",
   "metadata": {},
   "outputs": [
    {
     "name": "stdout",
     "output_type": "stream",
     "text": [
      "progamin\n"
     ]
    }
   ],
   "source": [
    "def remove_duplicate_from_string(text):\n",
    "    new_text = ''\n",
    "    for i in text:\n",
    "        if i not in new_text:\n",
    "            new_text += i\n",
    "        else:\n",
    "            continue\n",
    "    return new_text\n",
    "text = \"programming\"\n",
    "output = remove_duplicate_from_string(text)\n",
    "print (output)"
   ]
  },
  {
   "cell_type": "markdown",
   "id": "244c63e0-2b5c-47da-9781-999ca6ce720c",
   "metadata": {},
   "source": [
    "# Task_4"
   ]
  },
  {
   "cell_type": "code",
   "execution_count": null,
   "id": "adacaef6-cd18-49f5-94aa-e91aec7be600",
   "metadata": {},
   "outputs": [],
   "source": [
    "def are_anagrams (word1, word2):\n",
    "    word1 = word1.lower()\n",
    "    word2=word2.lower()\n",
    "    return sorted (word1) == sorted (word2)\n",
    "word1=input()\n",
    "word2=input()\n",
    "result = are_anagrams(word1, word2)\n",
    "print(result)"
   ]
  },
  {
   "cell_type": "markdown",
   "id": "4fdd0a9b-57e2-49a9-b0fc-1d63a5e3bea6",
   "metadata": {},
   "source": [
    "# Task_5"
   ]
  },
  {
   "cell_type": "code",
   "execution_count": 2,
   "id": "41216bbf-5fa8-4f21-b9ff-40b3effb2335",
   "metadata": {},
   "outputs": [
    {
     "name": "stdout",
     "output_type": "stream",
     "text": [
      "olleH dlroW \n"
     ]
    }
   ],
   "source": [
    "def reverse_anagrams (sentence):\n",
    "    words = sentence.split()\n",
    "    reverse = ''\n",
    "    for word in words:\n",
    "        w = word[::-1]\n",
    "        reverse += w + ' '\n",
    "    return reverse\n",
    "# sentence = input()\n",
    "sentence = \"Hello World\"\n",
    "result = reverse_anagrams(sentence)\n",
    "print (result)"
   ]
  },
  {
   "cell_type": "markdown",
   "id": "12809216-21ec-4dbe-88dd-148948e5c543",
   "metadata": {},
   "source": [
    "# Task_6"
   ]
  },
  {
   "cell_type": "code",
   "execution_count": 1,
   "id": "a5baa37c-af53-47d1-b463-3af112643cca",
   "metadata": {},
   "outputs": [
    {
     "name": "stdout",
     "output_type": "stream",
     "text": [
      "[1, 2, 3, 4, 5, 6]\n"
     ]
    }
   ],
   "source": [
    "def union_of_lists(lst1, lst2):\n",
    "    result = list(set(lst1) | set(lst2))\n",
    "    return result\n",
    "\n",
    "lst1 = [1, 2, 3, 4]\n",
    "lst2 = [3, 4, 5, 6]\n",
    "result_list = union_of_lists(lst1, lst2)\n",
    "print(result_list)"
   ]
  },
  {
   "cell_type": "markdown",
   "id": "9d272fcc-00fe-4c98-a85f-b98035bb856e",
   "metadata": {},
   "source": [
    "# Task_7"
   ]
  },
  {
   "cell_type": "code",
   "execution_count": 2,
   "id": "0d346a40-41a1-465d-9cd0-dec058324ac6",
   "metadata": {},
   "outputs": [
    {
     "name": "stdout",
     "output_type": "stream",
     "text": [
      "[3, 4]\n"
     ]
    }
   ],
   "source": [
    "def intersection_of_lists(lst1, lst2):\n",
    "    result = list(set(lst1) & set(lst2))\n",
    "    return result\n",
    "\n",
    "lst1 = [1, 2, 3, 4]\n",
    "lst2 = [3, 4, 5, 6]\n",
    "result = intersection_of_lists(lst1, lst2)\n",
    "print(result)"
   ]
  },
  {
   "cell_type": "markdown",
   "id": "8f9f6beb-791d-4dfd-bc62-40ec48897926",
   "metadata": {},
   "source": [
    "# Task_8"
   ]
  },
  {
   "cell_type": "code",
   "execution_count": 6,
   "id": "ac2b63de-1f38-4147-8a9e-854a9d453a49",
   "metadata": {},
   "outputs": [
    {
     "name": "stdout",
     "output_type": "stream",
     "text": [
      "[1, 2, 3, 4, 6, 6]\n"
     ]
    }
   ],
   "source": [
    "def merge_sorted_lists(lst1, lst2):\n",
    "    new_lst = list(lst1 + lst2)\n",
    "    result = sorted(new_lst)\n",
    "    return result\n",
    "\n",
    "lst1 = [1, 3, 5]\n",
    "lst2 = [2, 4, 6]\n",
    "result = merge_sorted_lists(lst1, lst2)\n",
    "print(result)"
   ]
  },
  {
   "cell_type": "markdown",
   "id": "dbc4db09-da10-4feb-bb2a-18ae0882936e",
   "metadata": {},
   "source": [
    "# Task_9"
   ]
  },
  {
   "cell_type": "code",
   "execution_count": 8,
   "id": "eb1acd73-fa06-4573-997b-aa2d8fe186f9",
   "metadata": {},
   "outputs": [
    {
     "name": "stdout",
     "output_type": "stream",
     "text": [
      "3\n"
     ]
    }
   ],
   "source": [
    "def alternating_sign_sum(lst):\n",
    "    sum = 0\n",
    "    for i in range(len(lst)):\n",
    "        sign = 1 if i % 2 == 0 else -1\n",
    "        sum += lst[i] * sign\n",
    "    return sum\n",
    "lst = [1, 2, 3, 4, 5]\n",
    "result = alternating_sign_sum(lst)\n",
    "print(result)"
   ]
  },
  {
   "cell_type": "markdown",
   "id": "767c06ec-fe83-41a9-b148-189f1a1f7fa9",
   "metadata": {},
   "source": [
    "# Task_10"
   ]
  },
  {
   "cell_type": "code",
   "execution_count": 11,
   "id": "214a3a73-6870-47e3-be64-7a98fa67b603",
   "metadata": {},
   "outputs": [
    {
     "name": "stdout",
     "output_type": "stream",
     "text": [
      "[4, 5, 1, 2, 3]\n"
     ]
    }
   ],
   "source": [
    "def shift_lst(lst, k):\n",
    "    n = len(lst)\n",
    "    k %= n\n",
    "    shifted_list = lst[-k:] + lst[:-k]\n",
    "    \n",
    "    return shifted_list\n",
    "\n",
    "lst = [1, 2, 3, 4, 5]\n",
    "k = 2\n",
    "result = shift_lst(lst, k)\n",
    "print(result)"
   ]
  },
  {
   "cell_type": "code",
   "execution_count": null,
   "id": "44dbaae0-a1ea-4f5e-af4f-aac6fe38c8fe",
   "metadata": {},
   "outputs": [],
   "source": []
  }
 ],
 "metadata": {
  "kernelspec": {
   "display_name": "Python 3 (ipykernel)",
   "language": "python",
   "name": "python3"
  },
  "language_info": {
   "codemirror_mode": {
    "name": "ipython",
    "version": 3
   },
   "file_extension": ".py",
   "mimetype": "text/x-python",
   "name": "python",
   "nbconvert_exporter": "python",
   "pygments_lexer": "ipython3",
   "version": "3.11.5"
  }
 },
 "nbformat": 4,
 "nbformat_minor": 5
}
