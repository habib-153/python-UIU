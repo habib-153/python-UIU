{
 "cells": [
  {
   "cell_type": "markdown",
   "id": "67302120",
   "metadata": {},
   "source": [
    "# Demo Codes"
   ]
  },
  {
   "cell_type": "code",
   "execution_count": 31,
   "id": "f3bd59e0",
   "metadata": {},
   "outputs": [],
   "source": [
    "class Student:\n",
    "    def __init__(self, name, student_id, cgpa, creds_comp, marks):\n",
    "        self.name = name \n",
    "        self.student_id = student_id\n",
    "        self.cgpa = cgpa \n",
    "        self.creds_comp = creds_comp\n",
    "        self.marks = marks\n",
    "        \n",
    "    def update_cgpa(self, gpa, creds):\n",
    "        self.cgpa =  (self.cgpa*self.creds_comp + gpa*creds)/(self.creds_comp + creds)\n",
    "        self.creds_comp = self.creds_comp + creds"
   ]
  },
  {
   "cell_type": "code",
   "execution_count": 32,
   "id": "41a8a111",
   "metadata": {},
   "outputs": [
    {
     "name": "stdout",
     "output_type": "stream",
     "text": [
      "Student's name is: Tauseef\n",
      "CGPA in last semester: 3.0\n",
      "CGPA after new semester: 3.130434782608696\n",
      "Marks in OOP: 100\n",
      "\n"
     ]
    }
   ],
   "source": [
    "studentT = Student(\"Tauseef\", \"109\", 3.00, 20, {\"OOP\": 100, \"Calculus\": 95})\n",
    "studentB = Student(\"B\", \"110\", 3.5, 20, {\"OOP\": 80, \"Calculus\": 92})\n",
    "\n",
    "# print(dir(studentT))\n",
    "\n",
    "print(f\"Student's name is: {studentT.name}\")\n",
    "print(f\"CGPA in last semester: {studentT.cgpa}\")\n",
    "studentT.update_cgpa(4.00, 3)\n",
    "print(f\"CGPA after new semester: {studentT.cgpa}\")\n",
    "print(f\"Marks in OOP: {studentT.marks['OOP']}\")\n",
    "print()\n",
    "# print(studentB.name)\n",
    "# print(studentB.cgpa)\n",
    "# print(studentB.marks)"
   ]
  },
  {
   "cell_type": "markdown",
   "id": "7a90fe11",
   "metadata": {},
   "source": [
    "# Box"
   ]
  },
  {
   "cell_type": "code",
   "execution_count": 45,
   "id": "51e2884e",
   "metadata": {},
   "outputs": [],
   "source": [
    "class Box:\n",
    "    def __init__(self, lenght, width, height):\n",
    "        self.lenght = lenght\n",
    "        self.width = width\n",
    "        self.height = height\n",
    "    \n",
    "    def get_volume(self):\n",
    "        return self.lenght * self.width * self.height "
   ]
  },
  {
   "cell_type": "code",
   "execution_count": 46,
   "id": "dcfe6b60",
   "metadata": {},
   "outputs": [
    {
     "name": "stdout",
     "output_type": "stream",
     "text": [
      "100\n"
     ]
    }
   ],
   "source": [
    "b1 = Box(10, 5, 2)\n",
    "print(b1.get_volume())"
   ]
  },
  {
   "cell_type": "markdown",
   "id": "5695685c",
   "metadata": {},
   "source": [
    "# Address Book"
   ]
  },
  {
   "cell_type": "code",
   "execution_count": 37,
   "id": "a642067e",
   "metadata": {},
   "outputs": [],
   "source": [
    "class AddressBook:\n",
    "    def __init__(self):\n",
    "        self.book = {}\n",
    "        \n",
    "    def create_record(self, name, address):\n",
    "        self.book[name] = address\n",
    "        \n",
    "    def update_record(self, name, new_address):\n",
    "        self.book[name] = new_address\n",
    "        \n",
    "    def delete_record(self, name):\n",
    "        del self.book[name]"
   ]
  },
  {
   "cell_type": "code",
   "execution_count": 38,
   "id": "2ba9fdae",
   "metadata": {},
   "outputs": [
    {
     "name": "stdout",
     "output_type": "stream",
     "text": [
      "{'Tauseef': 'Mohammadpur', 'B': 'Bailey Road'}\n",
      "\n",
      "{'Tauseef': 'Badda', 'B': 'Bailey Road'}\n",
      "\n",
      "{'B': 'Bailey Road'}\n"
     ]
    }
   ],
   "source": [
    "addresses = AddressBook()\n",
    "addresses.create_record(\"Tauseef\", \"Mohammadpur\")\n",
    "addresses.create_record(\"B\", \"Bailey Road\")\n",
    "print(addresses.book)\n",
    "\n",
    "print()\n",
    "addresses.update_record(\"Tauseef\", \"Badda\")\n",
    "print(addresses.book)\n"
   ]
  },
  {
   "cell_type": "markdown",
   "id": "b04dc6f9",
   "metadata": {},
   "source": [
    "# Bank Account"
   ]
  },
  {
   "cell_type": "code",
   "execution_count": 43,
   "id": "58393dab",
   "metadata": {},
   "outputs": [],
   "source": [
    "class BankAccount:\n",
    "    def __init__(self):\n",
    "        self.amount = 0\n",
    "        \n",
    "    def deposit(self, depo_amount):\n",
    "        self.amount += depo_amount\n",
    "        print(\"Deposit successful!\")\n",
    "    \n",
    "    def withdraw(self, withdraw_amount):\n",
    "        if self.amount >= withdraw_amount:\n",
    "            self.amount -= withdraw_amount\n",
    "            print(\"Withdraw successful!\")\n",
    "        else:\n",
    "            print(\"Withdraw unsucessful. You do not have sufficient balance.\")\n",
    "    \n",
    "    def check_balance(self):\n",
    "        print(self.amount)"
   ]
  },
  {
   "cell_type": "code",
   "execution_count": 44,
   "id": "beffe8f9",
   "metadata": {},
   "outputs": [
    {
     "name": "stdout",
     "output_type": "stream",
     "text": [
      "Deposit successful!\n",
      "5000\n",
      "\n",
      "Withdraw successful!\n",
      "2000\n",
      "\n",
      "Withdraw unsucessful. You do not have sufficient balance.\n",
      "2000\n",
      "\n"
     ]
    }
   ],
   "source": [
    "acc = BankAccount()\n",
    "\n",
    "acc.deposit(5000)\n",
    "acc.check_balance()\n",
    "print()\n",
    "\n",
    "acc.withdraw(3000)\n",
    "acc.check_balance()\n",
    "print()\n",
    "\n",
    "acc.withdraw(3000)\n",
    "acc.check_balance()\n",
    "print()"
   ]
  },
  {
   "cell_type": "code",
   "execution_count": null,
   "id": "b154c734",
   "metadata": {},
   "outputs": [],
   "source": []
  }
 ],
 "metadata": {
  "kernelspec": {
   "display_name": "Python 3 (ipykernel)",
   "language": "python",
   "name": "python3"
  },
  "language_info": {
   "codemirror_mode": {
    "name": "ipython",
    "version": 3
   },
   "file_extension": ".py",
   "mimetype": "text/x-python",
   "name": "python",
   "nbconvert_exporter": "python",
   "pygments_lexer": "ipython3",
   "version": "3.11.5"
  }
 },
 "nbformat": 4,
 "nbformat_minor": 5
}
