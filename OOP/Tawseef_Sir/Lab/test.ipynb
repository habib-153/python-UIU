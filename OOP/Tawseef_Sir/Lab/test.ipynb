{
 "cells": [
  {
   "cell_type": "code",
   "execution_count": 3,
   "metadata": {},
   "outputs": [
    {
     "name": "stdout",
     "output_type": "stream",
     "text": [
      "Added\n",
      "Name: Orange, Price: 150\n"
     ]
    }
   ],
   "source": [
    "class Item:\n",
    "    def __init__(self, name, price, quantity=0):\n",
    "        self.name = name\n",
    "        self.price = price\n",
    "        self.quantity = quantity\n",
    "    def __str__(self):\n",
    "        return f\"Name: {self.name}, Price: {self.price}\"\n",
    "    def add_to_cart(self, cart, amount=1):\n",
    "        found = False\n",
    "        for item in cart.item_lst:\n",
    "            if item.name == self.name:\n",
    "                item.quantity += amount\n",
    "                found = True\n",
    "                print(\"Added\")\n",
    "                break\n",
    "\n",
    "        if not found:\n",
    "            cart.item_lst.append(Item(self.name, self.price, amount))\n",
    "            print(\"Added\")\n",
    "\n",
    "class Cart:\n",
    "    def __init__(self, id, item_lst=[]):\n",
    "        self.id = id\n",
    "        self.item_lst = item_lst\n",
    "    def remove_item(self,item):\n",
    "        self.item_lst.remove(item)\n",
    "        print(\"Removed\")\n",
    "    def display_item(self):\n",
    "        for i in self.item_lst:\n",
    "            print(i)\n",
    "    def calculate_bill(self):\n",
    "        bill = 0\n",
    "        for i in self.item_lst:\n",
    "            bill += (i.quantity * i.price)\n",
    "        print(bill)\n",
    "\n",
    "orange = Item(\"Orange\", 150)\n",
    "MyCart = Cart(\"0152330118\")\n",
    "orange.add_to_cart(MyCart,5)\n",
    "\n",
    "MyCart.display_item()"
   ]
  }
 ],
 "metadata": {
  "kernelspec": {
   "display_name": "Python 3",
   "language": "python",
   "name": "python3"
  },
  "language_info": {
   "codemirror_mode": {
    "name": "ipython",
    "version": 3
   },
   "file_extension": ".py",
   "mimetype": "text/x-python",
   "name": "python",
   "nbconvert_exporter": "python",
   "pygments_lexer": "ipython3",
   "version": "3.11.5"
  }
 },
 "nbformat": 4,
 "nbformat_minor": 2
}
