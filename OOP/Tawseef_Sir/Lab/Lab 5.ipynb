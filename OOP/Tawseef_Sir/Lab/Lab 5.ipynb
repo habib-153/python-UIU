{
 "cells": [
  {
   "cell_type": "markdown",
   "id": "40c5554f",
   "metadata": {},
   "source": [
    "# Inheritance and Abstract Classes"
   ]
  },
  {
   "cell_type": "code",
   "execution_count": 1,
   "id": "33f56a33",
   "metadata": {},
   "outputs": [],
   "source": [
    "from abc import ABC, abstractmethod"
   ]
  },
  {
   "cell_type": "code",
   "execution_count": 2,
   "id": "41592961",
   "metadata": {},
   "outputs": [],
   "source": [
    "class Vehicle(ABC): # Abstract class\n",
    "    def __init__(self, n_wheels, v_type):\n",
    "        self.n_wheels = n_wheels\n",
    "        self.v_type = v_type\n",
    "        \n",
    "    def start_engine(self):\n",
    "        print(\"Engine started.\")\n",
    "        \n",
    "    @abstractmethod\n",
    "    def run(self):\n",
    "        pass"
   ]
  },
  {
   "cell_type": "code",
   "execution_count": 3,
   "id": "ef86836b",
   "metadata": {},
   "outputs": [],
   "source": [
    "class Car(Vehicle):\n",
    "    def __init__(self, n_wheels, v_type, n_passengers):\n",
    "        super().__init__(n_wheels, v_type)\n",
    "        self.n_passengers = n_passengers\n",
    "        \n",
    "    def pick_passengers(self, n):\n",
    "        print(f\"{n}/{self.n_passengers} passengers picked.\")"
   ]
  },
  {
   "cell_type": "code",
   "execution_count": 4,
   "id": "48481354",
   "metadata": {},
   "outputs": [],
   "source": [
    "class Truck(Vehicle):\n",
    "    def __init__(self, n_wheels, v_type, n_goods):\n",
    "        super().__init__(n_wheels, v_type)\n",
    "        self.n_goods = n_goods\n",
    "    \n",
    "    def pick_goods(self, n):\n",
    "        print(f\"{n}/{self.n_goods} kg goods picked.\")"
   ]
  },
  {
   "cell_type": "code",
   "execution_count": 5,
   "id": "57385226",
   "metadata": {},
   "outputs": [
    {
     "ename": "TypeError",
     "evalue": "Can't instantiate abstract class Car with abstract method run",
     "output_type": "error",
     "traceback": [
      "\u001b[1;31m---------------------------------------------------------------------------\u001b[0m",
      "\u001b[1;31mTypeError\u001b[0m                                 Traceback (most recent call last)",
      "Cell \u001b[1;32mIn[5], line 1\u001b[0m\n\u001b[1;32m----> 1\u001b[0m c \u001b[38;5;241m=\u001b[39m Car(\u001b[38;5;241m4\u001b[39m, \u001b[38;5;124m\"\u001b[39m\u001b[38;5;124melectric\u001b[39m\u001b[38;5;124m\"\u001b[39m, \u001b[38;5;241m4\u001b[39m)\n\u001b[0;32m      2\u001b[0m c\u001b[38;5;241m.\u001b[39mstart_engine()\n\u001b[0;32m      3\u001b[0m c\u001b[38;5;241m.\u001b[39mpick_passengers(\u001b[38;5;241m2\u001b[39m)\n",
      "\u001b[1;31mTypeError\u001b[0m: Can't instantiate abstract class Car with abstract method run"
     ]
    }
   ],
   "source": [
    "c = Car(4, \"electric\", 4)\n",
    "c.start_engine()\n",
    "c.pick_passengers(2)\n",
    "\n",
    "t = Truck(8, \"Diesel\", 20)\n",
    "t.start_engine()\n",
    "t.pick_goods(7)"
   ]
  },
  {
   "cell_type": "code",
   "execution_count": 6,
   "id": "14107aeb",
   "metadata": {},
   "outputs": [],
   "source": [
    "class Toyota(Car):\n",
    "    def start_engine(self):\n",
    "        print(\"Started Toyota engine.\")\n",
    "        \n",
    "    def run(self): # Overriding the abstract method\n",
    "        print(\"Started running toyota.\")"
   ]
  },
  {
   "cell_type": "code",
   "execution_count": 7,
   "id": "b4d17919",
   "metadata": {},
   "outputs": [],
   "source": [
    "class Ford(Truck):\n",
    "    def start_engine(self):\n",
    "        print(\"Started Ford engine.\")\n",
    "        \n",
    "    def run(self): # Overriding the abstract method\n",
    "        print(\"Started running ford.\")"
   ]
  },
  {
   "cell_type": "code",
   "execution_count": 8,
   "id": "5eb713b5",
   "metadata": {},
   "outputs": [
    {
     "name": "stdout",
     "output_type": "stream",
     "text": [
      "Started Toyota engine.\n",
      "4/6 passengers picked.\n",
      "5\n"
     ]
    }
   ],
   "source": [
    "tc = Toyota(5, \"electric\", 6)\n",
    "tc.start_engine()\n",
    "tc.pick_passengers(4)\n",
    "print(tc.n_wheels)"
   ]
  },
  {
   "cell_type": "code",
   "execution_count": 9,
   "id": "481d53f1",
   "metadata": {},
   "outputs": [
    {
     "name": "stdout",
     "output_type": "stream",
     "text": [
      "Started Ford engine.\n",
      "15/30 kg goods picked.\n",
      "10\n"
     ]
    }
   ],
   "source": [
    "ft = Ford(10, \"diesel\", 30)\n",
    "ft.start_engine()\n",
    "ft.pick_goods(15)\n",
    "print(ft.n_wheels)"
   ]
  },
  {
   "cell_type": "code",
   "execution_count": 10,
   "id": "39bb3817",
   "metadata": {},
   "outputs": [],
   "source": [
    "# v = Vehicle(4, \"electric\")\n",
    "# v.start_engine()"
   ]
  },
  {
   "cell_type": "code",
   "execution_count": null,
   "id": "64c992a1",
   "metadata": {},
   "outputs": [],
   "source": []
  }
 ],
 "metadata": {
  "kernelspec": {
   "display_name": "Python 3 (ipykernel)",
   "language": "python",
   "name": "python3"
  },
  "language_info": {
   "codemirror_mode": {
    "name": "ipython",
    "version": 3
   },
   "file_extension": ".py",
   "mimetype": "text/x-python",
   "name": "python",
   "nbconvert_exporter": "python",
   "pygments_lexer": "ipython3",
   "version": "3.11.5"
  }
 },
 "nbformat": 4,
 "nbformat_minor": 5
}
